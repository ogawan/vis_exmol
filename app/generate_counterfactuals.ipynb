{
 "cells": [
  {
   "cell_type": "code",
   "execution_count": 1,
   "id": "5cdec097-64e4-4aa9-bc5c-9ce31680edc3",
   "metadata": {},
   "outputs": [
    {
     "name": "stdout",
     "output_type": "stream",
     "text": [
      "Folder is already there\n"
     ]
    }
   ],
   "source": [
    "import datetime\n",
    "from random import randrange\n",
    "from pathlib import Path\n",
    "import numpy as np\n",
    "import pandas as pd\n",
    "from matplotlib import pyplot as plt\n",
    "import exmol\n",
    "from exmol.plot_utils  import _mol_images\n",
    "from rdkit import Chem\n",
    "from rdkit.Chem import rdMolDescriptors\n",
    "\n",
    "#make folder for the generated images\n",
    "dt_now = datetime.date.today().isoformat() \n",
    " \n",
    "path = Path.cwd() / \"assets\" /  dt_now\n",
    "\n",
    "try:\n",
    "    path.mkdir(parents=True, exist_ok=False)\n",
    "except FileExistsError:\n",
    "    print(\"Folder is already there\")\n",
    "else:\n",
    "    print(\"Folder was created\")    "
   ]
  },
  {
   "cell_type": "code",
   "execution_count": 3,
   "id": "2e4fd812-07b1-42e3-b745-22e7808e44a6",
   "metadata": {},
   "outputs": [
    {
     "name": "stderr",
     "output_type": "stream",
     "text": [
      "🤘Done🤘: 100% 1919.0/1919 [00:20<00:00, 92.35it/s]                   \n"
     ]
    }
   ],
   "source": [
    "#Toy model\n",
    "def my_model(smiles):\n",
    "    \"\"\"\n",
    "    Insert your pipeline:\n",
    "    1) Smiles sanitation\n",
    "    2) Data featurization\n",
    "    3) Prediction of model from 2)\n",
    "        Exmol is compatible with both regressino and classification. \n",
    "    \"\"\"\n",
    "    return randrange(10) # Should be the value of 3) \n",
    "\n",
    "# Mol of interest\n",
    "base = 'O=C(C)Oc1ccccc1C(=O)O'\n",
    "samples = exmol.sample_space(base, lambda smi, sel: my_model(smi), batched=False)"
   ]
  },
  {
   "cell_type": "code",
   "execution_count": 4,
   "id": "576a98f4-157b-4857-92c3-e83bf3fe2cda",
   "metadata": {
    "tags": []
   },
   "outputs": [],
   "source": [
    "#Convert image into svg\n",
    "for i in range(0, len(samples)):\n",
    "    plt.figure(figsize=(5,5))\n",
    "    plt.imshow(np.asarray(_mol_images([samples[0],samples[i]], (400,400), 5)[1]))\n",
    "    plt.axis('off')\n",
    "    plt.gca().set_position([0, 0, 1, 1])\n",
    "    plt.savefig(\"{}/{}.svg\".format(path, i))\n",
    "    plt.clf()\n",
    "    plt.close()"
   ]
  },
  {
   "cell_type": "code",
   "execution_count": 8,
   "id": "c60948b4-65de-424f-a3f1-1ebf8682e8e2",
   "metadata": {},
   "outputs": [],
   "source": [
    "# Make sure the data is stored in assets folder. \n",
    "# Edit based on your needs. \n",
    "df = pd.DataFrame({})\n",
    "df[\"IMG_URL\"] = [\"assets/{}/{}.svg\".format(dt_now ,i) for i in  range(0, len(samples))]\n",
    "df[\"NAME\"] = [\"Chemical Space {}\".format(i) for i in range(0, len(samples))]\n",
    "df[\"PAGE\"] = [\"\".format(i) for i in range(0, df.shape[0])]\n",
    "df[\"PCA1\"] = [i.position[0] for i in samples]\n",
    "df[\"PCA2\"] = [i.position[-1] for i in samples]\n",
    "df[\"TPSA\"] = [round(rdMolDescriptors.CalcTPSA(Chem.MolFromSmiles(i.smiles)),2) for i in samples]\n",
    "df[\"MW\"] = [round(rdMolDescriptors._CalcMolWt(Chem.MolFromSmiles(i.smiles)),2) for i in samples]\n",
    "df[\"Predictions\"] = [i.yhat for i in samples]\n",
    "df[\"DESC\"] = [\"Insert cool descriptions here if you want!\".format(i) for i in range(0, len(samples))]\n",
    "df[\"FORM\"] = [rdMolDescriptors.CalcMolFormula(Chem.MolFromSmiles(i.smiles)) for i in samples]\n",
    "df.to_csv(\"data/data.csv\", index=False)"
   ]
  }
 ],
 "metadata": {
  "kernelspec": {
   "display_name": "Python 3 (ipykernel)",
   "language": "python",
   "name": "python3"
  },
  "language_info": {
   "codemirror_mode": {
    "name": "ipython",
    "version": 3
   },
   "file_extension": ".py",
   "mimetype": "text/x-python",
   "name": "python",
   "nbconvert_exporter": "python",
   "pygments_lexer": "ipython3",
   "version": "3.7.9"
  },
  "toc-showcode": true
 },
 "nbformat": 4,
 "nbformat_minor": 5
}
